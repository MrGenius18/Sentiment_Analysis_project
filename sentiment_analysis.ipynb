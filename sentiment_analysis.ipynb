{
 "cells": [
  {
   "cell_type": "markdown",
   "metadata": {},
   "source": [
    "# Sentiment Analysis in Python"
   ]
  },
  {
   "cell_type": "markdown",
   "metadata": {},
   "source": [
    "### import libraries"
   ]
  },
  {
   "cell_type": "code",
   "execution_count": 1,
   "metadata": {},
   "outputs": [],
   "source": [
    "import pandas as pd\n",
    "import matplotlib.pyplot as plt\n",
    "\n",
    "import re\n",
    "from nltk.stem.porter import PorterStemmer\n",
    "from nltk.corpus import stopwords\n",
    "\n",
    "from collections import Counter\n",
    "\n",
    "from sklearn.feature_extraction.text import TfidfVectorizer as TfIdf\n",
    "from sklearn.model_selection import train_test_split\n",
    "from sklearn.linear_model import LogisticRegressionCV\n",
    "from sklearn.metrics import *\n",
    "\n",
    "import torch\n",
    "# from transformers import BertModel, BertTokenizer\n",
    "# from torch.utils.data import DataLoader\n",
    "\n",
    "import pickle"
   ]
  },
  {
   "cell_type": "code",
   "execution_count": 2,
   "metadata": {},
   "outputs": [
    {
     "name": "stdout",
     "output_type": "stream",
     "text": [
      "cpu\n"
     ]
    }
   ],
   "source": [
    "device = \"cuda\" if torch.cuda.is_available() else \"cpu\"\n",
    "print(device)"
   ]
  },
  {
   "cell_type": "markdown",
   "metadata": {},
   "source": [
    "### import dataset"
   ]
  },
  {
   "cell_type": "code",
   "execution_count": 3,
   "metadata": {},
   "outputs": [
    {
     "data": {
      "text/html": [
       "<div>\n",
       "<style scoped>\n",
       "    .dataframe tbody tr th:only-of-type {\n",
       "        vertical-align: middle;\n",
       "    }\n",
       "\n",
       "    .dataframe tbody tr th {\n",
       "        vertical-align: top;\n",
       "    }\n",
       "\n",
       "    .dataframe thead th {\n",
       "        text-align: right;\n",
       "    }\n",
       "</style>\n",
       "<table border=\"1\" class=\"dataframe\">\n",
       "  <thead>\n",
       "    <tr style=\"text-align: right;\">\n",
       "      <th></th>\n",
       "      <th>product_name</th>\n",
       "      <th>product_price</th>\n",
       "      <th>Rate</th>\n",
       "      <th>Review</th>\n",
       "      <th>Summary</th>\n",
       "      <th>Sentiment</th>\n",
       "    </tr>\n",
       "  </thead>\n",
       "  <tbody>\n",
       "    <tr>\n",
       "      <th>0</th>\n",
       "      <td>Candes 12 L Room/Personal Air Cooler??????(Whi...</td>\n",
       "      <td>3999</td>\n",
       "      <td>5</td>\n",
       "      <td>super!</td>\n",
       "      <td>great cooler excellent air flow and for this p...</td>\n",
       "      <td>positive</td>\n",
       "    </tr>\n",
       "  </tbody>\n",
       "</table>\n",
       "</div>"
      ],
      "text/plain": [
       "                                        product_name product_price Rate  \\\n",
       "0  Candes 12 L Room/Personal Air Cooler??????(Whi...          3999    5   \n",
       "\n",
       "   Review                                            Summary Sentiment  \n",
       "0  super!  great cooler excellent air flow and for this p...  positive  "
      ]
     },
     "execution_count": 3,
     "metadata": {},
     "output_type": "execute_result"
    }
   ],
   "source": [
    "data = pd.read_csv(\"Dataset-SA.csv\")\n",
    "data.head(1)"
   ]
  },
  {
   "cell_type": "markdown",
   "metadata": {},
   "source": [
    "### Clean and modify dataset"
   ]
  },
  {
   "cell_type": "code",
   "execution_count": 4,
   "metadata": {},
   "outputs": [
    {
     "data": {
      "text/html": [
       "<div>\n",
       "<style scoped>\n",
       "    .dataframe tbody tr th:only-of-type {\n",
       "        vertical-align: middle;\n",
       "    }\n",
       "\n",
       "    .dataframe tbody tr th {\n",
       "        vertical-align: top;\n",
       "    }\n",
       "\n",
       "    .dataframe thead th {\n",
       "        text-align: right;\n",
       "    }\n",
       "</style>\n",
       "<table border=\"1\" class=\"dataframe\">\n",
       "  <thead>\n",
       "    <tr style=\"text-align: right;\">\n",
       "      <th></th>\n",
       "      <th>Summary</th>\n",
       "      <th>Sentiment</th>\n",
       "    </tr>\n",
       "  </thead>\n",
       "  <tbody>\n",
       "    <tr>\n",
       "      <th>0</th>\n",
       "      <td>great cooler excellent air flow and for this p...</td>\n",
       "      <td>positive</td>\n",
       "    </tr>\n",
       "    <tr>\n",
       "      <th>1</th>\n",
       "      <td>best budget 2 fit cooler nice cooling</td>\n",
       "      <td>positive</td>\n",
       "    </tr>\n",
       "    <tr>\n",
       "      <th>2</th>\n",
       "      <td>the quality is good but the power of air is de...</td>\n",
       "      <td>positive</td>\n",
       "    </tr>\n",
       "    <tr>\n",
       "      <th>3</th>\n",
       "      <td>very bad product its a only a fan</td>\n",
       "      <td>negative</td>\n",
       "    </tr>\n",
       "    <tr>\n",
       "      <th>4</th>\n",
       "      <td>ok ok product</td>\n",
       "      <td>neutral</td>\n",
       "    </tr>\n",
       "  </tbody>\n",
       "</table>\n",
       "</div>"
      ],
      "text/plain": [
       "                                             Summary Sentiment\n",
       "0  great cooler excellent air flow and for this p...  positive\n",
       "1              best budget 2 fit cooler nice cooling  positive\n",
       "2  the quality is good but the power of air is de...  positive\n",
       "3                  very bad product its a only a fan  negative\n",
       "4                                      ok ok product   neutral"
      ]
     },
     "execution_count": 4,
     "metadata": {},
     "output_type": "execute_result"
    }
   ],
   "source": [
    "data = data[[\"Summary\", \"Sentiment\"]]\n",
    "data.head(5)"
   ]
  },
  {
   "cell_type": "code",
   "execution_count": 5,
   "metadata": {},
   "outputs": [
    {
     "data": {
      "text/plain": [
       "(205052, 2)"
      ]
     },
     "execution_count": 5,
     "metadata": {},
     "output_type": "execute_result"
    }
   ],
   "source": [
    "data.shape"
   ]
  },
  {
   "cell_type": "code",
   "execution_count": 6,
   "metadata": {},
   "outputs": [
    {
     "data": {
      "text/plain": [
       "Summary      0\n",
       "Sentiment    0\n",
       "dtype: int64"
      ]
     },
     "execution_count": 6,
     "metadata": {},
     "output_type": "execute_result"
    }
   ],
   "source": [
    "data = data.dropna()\n",
    "data.isna().sum()"
   ]
  },
  {
   "cell_type": "code",
   "execution_count": 7,
   "metadata": {},
   "outputs": [
    {
     "data": {
      "text/plain": [
       "np.int64(0)"
      ]
     },
     "execution_count": 7,
     "metadata": {},
     "output_type": "execute_result"
    }
   ],
   "source": [
    "data = data.drop_duplicates()\n",
    "data.duplicated().sum()"
   ]
  },
  {
   "cell_type": "code",
   "execution_count": 8,
   "metadata": {},
   "outputs": [
    {
     "data": {
      "text/plain": [
       "(93921, 2)"
      ]
     },
     "execution_count": 8,
     "metadata": {},
     "output_type": "execute_result"
    }
   ],
   "source": [
    "data = data.reset_index(drop=True)\n",
    "data.shape"
   ]
  },
  {
   "cell_type": "code",
   "execution_count": 9,
   "metadata": {},
   "outputs": [
    {
     "data": {
      "text/plain": [
       "Sentiment\n",
       "positive    69342\n",
       "negative    18789\n",
       "neutral      5790\n",
       "Name: count, dtype: int64"
      ]
     },
     "execution_count": 9,
     "metadata": {},
     "output_type": "execute_result"
    }
   ],
   "source": [
    "data.value_counts(\"Sentiment\")"
   ]
  },
  {
   "cell_type": "code",
   "execution_count": 10,
   "metadata": {},
   "outputs": [],
   "source": [
    "df = data.copy()"
   ]
  },
  {
   "cell_type": "code",
   "execution_count": 11,
   "metadata": {},
   "outputs": [
    {
     "data": {
      "text/html": [
       "<div>\n",
       "<style scoped>\n",
       "    .dataframe tbody tr th:only-of-type {\n",
       "        vertical-align: middle;\n",
       "    }\n",
       "\n",
       "    .dataframe tbody tr th {\n",
       "        vertical-align: top;\n",
       "    }\n",
       "\n",
       "    .dataframe thead th {\n",
       "        text-align: right;\n",
       "    }\n",
       "</style>\n",
       "<table border=\"1\" class=\"dataframe\">\n",
       "  <thead>\n",
       "    <tr style=\"text-align: right;\">\n",
       "      <th></th>\n",
       "      <th>Summary</th>\n",
       "      <th>Sentiment</th>\n",
       "    </tr>\n",
       "  </thead>\n",
       "  <tbody>\n",
       "    <tr>\n",
       "      <th>0</th>\n",
       "      <td>great cooler excellent air flow and for this p...</td>\n",
       "      <td>2</td>\n",
       "    </tr>\n",
       "    <tr>\n",
       "      <th>1</th>\n",
       "      <td>best budget 2 fit cooler nice cooling</td>\n",
       "      <td>2</td>\n",
       "    </tr>\n",
       "    <tr>\n",
       "      <th>2</th>\n",
       "      <td>the quality is good but the power of air is de...</td>\n",
       "      <td>2</td>\n",
       "    </tr>\n",
       "    <tr>\n",
       "      <th>3</th>\n",
       "      <td>very bad product its a only a fan</td>\n",
       "      <td>0</td>\n",
       "    </tr>\n",
       "    <tr>\n",
       "      <th>4</th>\n",
       "      <td>ok ok product</td>\n",
       "      <td>1</td>\n",
       "    </tr>\n",
       "  </tbody>\n",
       "</table>\n",
       "</div>"
      ],
      "text/plain": [
       "                                             Summary  Sentiment\n",
       "0  great cooler excellent air flow and for this p...          2\n",
       "1              best budget 2 fit cooler nice cooling          2\n",
       "2  the quality is good but the power of air is de...          2\n",
       "3                  very bad product its a only a fan          0\n",
       "4                                      ok ok product          1"
      ]
     },
     "execution_count": 11,
     "metadata": {},
     "output_type": "execute_result"
    }
   ],
   "source": [
    "df.Sentiment = df[\"Sentiment\"].astype(\"category\").cat.codes\n",
    "df.head()"
   ]
  },
  {
   "cell_type": "markdown",
   "metadata": {},
   "source": [
    "### EDA"
   ]
  },
  {
   "cell_type": "markdown",
   "metadata": {},
   "source": [
    "* 0: Negative\n",
    "* 1: Neutral\n",
    "* 2: Positive"
   ]
  },
  {
   "cell_type": "code",
   "execution_count": 12,
   "metadata": {},
   "outputs": [
    {
     "data": {
      "image/png": "[encoded data removed]",
      "text/plain": [
       "<Figure size 640x480 with 1 Axes>"
      ]
     },
     "metadata": {},
     "output_type": "display_data"
    }
   ],
   "source": [
    "data[\"Sentiment\"].value_counts().plot(kind=\"bar\")\n",
    "plt.show()"
   ]
  },
  {
   "cell_type": "code",
   "execution_count": 13,
   "metadata": {},
   "outputs": [
    {
     "data": {
      "image/png": "[encoded data removed]",
      "text/plain": [
       "<Figure size 640x480 with 1 Axes>"
      ]
     },
     "metadata": {},
     "output_type": "display_data"
    }
   ],
   "source": [
    "color = [\"Green\", \"Red\", \"Orange\"]\n",
    "data[\"Sentiment\"].value_counts().plot(kind=\"pie\", autopct='%.1f%%', shadow=True, \n",
    "                                      colors=color, explode=(0.1, 0, 0), startangle=45)\n",
    "plt.ylabel(None)\n",
    "plt.show()"
   ]
  },
  {
   "cell_type": "markdown",
   "metadata": {},
   "source": [
    "### Clean Text"
   ]
  },
  {
   "cell_type": "code",
   "execution_count": 14,
   "metadata": {},
   "outputs": [
    {
     "data": {
      "text/plain": [
       "'great cooler excellent air flow and for this price its so amazing and unbelievablejust love it'"
      ]
     },
     "execution_count": 14,
     "metadata": {},
     "output_type": "execute_result"
    }
   ],
   "source": [
    "df[\"Summary\"][0]"
   ]
  },
  {
   "cell_type": "markdown",
   "metadata": {},
   "source": [
    "* remove html tags\n",
    "* extract emojies\n",
    "* remove special char\n",
    "* convert lower text\n",
    "* remove stopwords\n",
    "* tokenization"
   ]
  },
  {
   "cell_type": "code",
   "execution_count": 15,
   "metadata": {},
   "outputs": [],
   "source": [
    "# nltk.download('stopwords') # if not available\n",
    "stop_word = set(stopwords.words(\"english\"))\n",
    "emoji_pattern = re.compile(r'(?::|;|=)(?:-)?(?:\\)|\\(|D|P)')"
   ]
  },
  {
   "cell_type": "code",
   "execution_count": 16,
   "metadata": {},
   "outputs": [],
   "source": [
    "def preprocessing(text):\n",
    "    text = re.sub(r'<[^>]*>', '', text) # remove html tags\n",
    "    emojis = emoji_pattern.findall(text)\n",
    "    text = re.sub(r'[\\W+]', ' ', text.lower()) + ' '.join(emojis).replace('-', '')\n",
    "\n",
    "    peter = PorterStemmer()\n",
    "    text = [peter.stem(word) for word in text.split() if word not in stop_word]\n",
    "\n",
    "    return \" \".join(text)"
   ]
  },
  {
   "cell_type": "code",
   "execution_count": 17,
   "metadata": {},
   "outputs": [
    {
     "data": {
      "text/plain": [
       "0    great cooler excel air flow price amaz unbelie...\n",
       "1                   best budget 2 fit cooler nice cool\n",
       "2                        qualiti good power air decent\n",
       "3                                      bad product fan\n",
       "4                                        ok ok product\n",
       "Name: Summary, dtype: object"
      ]
     },
     "execution_count": 17,
     "metadata": {},
     "output_type": "execute_result"
    }
   ],
   "source": [
    "df[\"Summary\"] = df[\"Summary\"].apply(lambda x: preprocessing(x))\n",
    "df[\"Summary\"].head()"
   ]
  },
  {
   "cell_type": "markdown",
   "metadata": {},
   "source": [
    "### visualizing top10 words Sentimint wise"
   ]
  },
  {
   "cell_type": "code",
   "execution_count": 18,
   "metadata": {},
   "outputs": [],
   "source": [
    "positive_data = df[df['Sentiment'] == 2]\n",
    "positive_data = positive_data[\"Summary\"]\n",
    "\n",
    "natural_data = df[df['Sentiment'] == 1]\n",
    "natural_data = natural_data[\"Summary\"]\n",
    "\n",
    "negative_data = df[df['Sentiment'] == 0]\n",
    "negative_data = negative_data[\"Summary\"]"
   ]
  },
  {
   "cell_type": "code",
   "execution_count": 19,
   "metadata": {},
   "outputs": [],
   "source": [
    "positive_data_words = ' '.join(positive_data).split()\n",
    "positive_data_words_count = Counter(positive_data_words)\n",
    "positive_data_common_words = positive_data_words_count.most_common(10)\n",
    "\n",
    "natural_data_words = ' '.join(natural_data).split()\n",
    "natural_data_words_count = Counter(natural_data_words)\n",
    "natural_data_common_words = natural_data_words_count.most_common(10)\n",
    "\n",
    "negative_data_words = ' '.join(negative_data).split()\n",
    "negative_data_words_count = Counter(negative_data_words)\n",
    "negative_data_common_words = negative_data_words_count.most_common(10)"
   ]
  },
  {
   "cell_type": "code",
   "execution_count": 20,
   "metadata": {},
   "outputs": [
    {
     "data": {
      "image/png": "[encoded data removed]",
      "text/plain": [
       "<Figure size 1200x600 with 3 Axes>"
      ]
     },
     "metadata": {},
     "output_type": "display_data"
    }
   ],
   "source": [
    "fig, ax = plt.subplots(1, 3, figsize=(12,6))\n",
    "\n",
    "ax[0].barh(range(len(positive_data_common_words)), \n",
    "           [count for _, count in positive_data_common_words],\n",
    "           align='center')\n",
    "ax[0].set_yticks(range(len(positive_data_common_words)))\n",
    "ax[0].set_yticklabels([word for word, _ in positive_data_common_words])\n",
    "ax[0].set_title('Positive data word frequency')\n",
    "\n",
    "ax[1].barh(range(len(natural_data_common_words)), \n",
    "           [count for _, count in natural_data_common_words],\n",
    "           align='center')\n",
    "ax[1].set_yticks(range(len(natural_data_common_words)))\n",
    "ax[1].set_yticklabels([word for word, _ in natural_data_common_words])\n",
    "ax[1].set_title('Natural data word frequency')\n",
    "\n",
    "ax[2].barh(range(len(negative_data_common_words)), \n",
    "           [count for _, count in negative_data_common_words],\n",
    "           align='center')\n",
    "ax[2].set_yticks(range(len(negative_data_common_words)))\n",
    "ax[2].set_yticklabels([word for word, _ in negative_data_common_words])\n",
    "ax[2].set_title('Negative data word frequency')\n",
    "\n",
    "plt.tight_layout()\n",
    "plt.show()"
   ]
  },
  {
   "cell_type": "markdown",
   "metadata": {},
   "source": [
    "### Vectorizer using TF-IDF "
   ]
  },
  {
   "cell_type": "code",
   "execution_count": 21,
   "metadata": {},
   "outputs": [],
   "source": [
    "tfidf = TfIdf(strip_accents=None, lowercase=False, preprocessor=None, use_idf=True, norm='l2', smooth_idf=True) # smooth_idf give importants for rare words\n",
    "y = df[\"Sentiment\"].values\n",
    "x = tfidf.fit_transform(df[\"Summary\"])"
   ]
  },
  {
   "cell_type": "markdown",
   "metadata": {},
   "source": [
    "### Vectorizer using BERT"
   ]
  },
  {
   "cell_type": "code",
   "execution_count": 22,
   "metadata": {},
   "outputs": [],
   "source": [
    "# tokenizer = BertTokenizer.from_pretrained('bert-base-uncased')\n",
    "# model = BertModel.from_pretrained(\"bert-base-uncased\")"
   ]
  },
  {
   "cell_type": "code",
   "execution_count": 23,
   "metadata": {},
   "outputs": [],
   "source": [
    "# sentences = df[\"Summary\"].tolist()\n",
    "# data_loader = DataLoader(sentences, batch_size=32, shuffle=False)"
   ]
  },
  {
   "cell_type": "code",
   "execution_count": 24,
   "metadata": {},
   "outputs": [],
   "source": [
    "# encoding for sentences\n",
    "# def get_encoding(batch):\n",
    "#     inputs = tokenizer(batch, return_tensors='pt', padding=True, truncation=True, max_length=128)\n",
    "\n",
    "#     with torch.no_grad():\n",
    "#         outputs = model(**inputs)\n",
    "\n",
    "#     embendings = outputs.last_hidden_state.mean(dim=1)\n",
    "#     return embendings"
   ]
  },
  {
   "cell_type": "code",
   "execution_count": 25,
   "metadata": {},
   "outputs": [],
   "source": [
    "# all_embeddings = []\n",
    "\n",
    "# # Iterate through batches in the DataLoader\n",
    "# for batch in data_loader:\n",
    "#     embeddings = get_encoding(batch)\n",
    "#     all_embeddings.append(embeddings)"
   ]
  },
  {
   "cell_type": "code",
   "execution_count": 26,
   "metadata": {},
   "outputs": [],
   "source": [
    "# x_tf = torch.cat(all_embeddings, dim=0) # Concatenate embeddings from all batches\n",
    "# x = x_tf.cpu().detach().numpy() # using bert embending within classical ML\n",
    "\n",
    "# y = df[\"Sentiment\"].values"
   ]
  },
  {
   "cell_type": "markdown",
   "metadata": {},
   "source": [
    "### ML model"
   ]
  },
  {
   "cell_type": "code",
   "execution_count": 27,
   "metadata": {},
   "outputs": [],
   "source": [
    "x_train, x_test, y_train, y_test = train_test_split(x, y, test_size=0.3, random_state=42)"
   ]
  },
  {
   "cell_type": "code",
   "execution_count": 28,
   "metadata": {},
   "outputs": [],
   "source": [
    "clf_model = LogisticRegressionCV(cv=6, scoring='accuracy', random_state=0, n_jobs=-1, verbose=3, max_iter=500)"
   ]
  },
  {
   "cell_type": "code",
   "execution_count": 29,
   "metadata": {},
   "outputs": [
    {
     "name": "stderr",
     "output_type": "stream",
     "text": [
      "[Parallel(n_jobs=-1)]: Using backend LokyBackend with 12 concurrent workers.\n",
      "[Parallel(n_jobs=-1)]: Done   4 out of   6 | elapsed:   18.2s remaining:    9.1s\n",
      "[Parallel(n_jobs=-1)]: Done   6 out of   6 | elapsed:   18.8s finished\n"
     ]
    }
   ],
   "source": [
    "clf_model.fit(x_train, y_train)\n",
    "y_pred = clf_model.predict(x_test)"
   ]
  },
  {
   "cell_type": "code",
   "execution_count": 30,
   "metadata": {},
   "outputs": [
    {
     "name": "stdout",
     "output_type": "stream",
     "text": [
      "Accuracy: 86.30%\n"
     ]
    }
   ],
   "source": [
    "# Accuracy check\n",
    "print(f\"Accuracy: {accuracy_score(y_pred, y_test)*100:.2f}%\")"
   ]
  },
  {
   "cell_type": "markdown",
   "metadata": {},
   "source": [
    "### Check Model using Prediction"
   ]
  },
  {
   "cell_type": "code",
   "execution_count": 31,
   "metadata": {},
   "outputs": [],
   "source": [
    "def check_model(review):\n",
    "    clean_review = preprocessing(review)\n",
    "    review_list = [clean_review]\n",
    "    review_vector = tfidf.transform(review_list)\n",
    "    prediction = clf_model.predict(review_vector)[0]\n",
    "\n",
    "    if prediction == 0:\n",
    "        return \"Negative Review\"\n",
    "    elif prediction == 1:\n",
    "        return \"Natural Review\"\n",
    "    elif prediction == 2:\n",
    "        return \"Positive Review\""
   ]
  },
  {
   "cell_type": "code",
   "execution_count": 32,
   "metadata": {},
   "outputs": [
    {
     "name": "stdout",
     "output_type": "stream",
     "text": [
      "Negative Review\n",
      "Positive Review\n",
      "Negative Review\n",
      "Positive Review\n",
      "Negative Review\n",
      "Negative Review\n"
     ]
    }
   ],
   "source": [
    "review_list1 = [\n",
    "    \"🔴Don't buy this. Lock code automatically changes after using code to lock for once. Can't open the suitcase with same lock code again. Had to open by using some tricks. The lock changes to new code every time we use. Not recommended at all. ❌\",\n",
    "    \"The manufacturer should have been fitted a good quality number lock in this trolley bag.\",\n",
    "    \"Product is okok. It is not strong. Build quality is low. But at this price it is cheaper, that's why I don't return it.\",\n",
    "    \"The quality is very nice .. I would give it a 10/10 And storage of the bag is okay as it is a medium sized trolley and all over the colour of the trolley makes you look more classy .... It was a great experience purchasing from Flipkart ☺️☺️\",\n",
    "    \"The suitcase is locked again and again trying multiple times with a pin but it is not working.\",\n",
    "    \"Expection is high but reality is😥😭😥😭😭😭😭👎👎👎👎👎👎👎👎👎👎\"\n",
    "]\n",
    "\n",
    "for review in review_list1:\n",
    "    prediction = check_model(review)\n",
    "    print(prediction)"
   ]
  },
  {
   "cell_type": "code",
   "execution_count": 33,
   "metadata": {},
   "outputs": [
    {
     "name": "stdout",
     "output_type": "stream",
     "text": [
      "Positive Review\n",
      "Negative Review\n",
      "Positive Review\n",
      "Negative Review\n",
      "Negative Review\n",
      "Negative Review\n"
     ]
    }
   ],
   "source": [
    "review_list2 = [\n",
    "    \"Really amazing product but not for high bass lover, normal bass is good, design is just wow\",\n",
    "    \"poor sound and to much lack sound, poor call experience no Recommand for purchase\",\n",
    "    \"Sound quality Good 👍\",\n",
    "    \"Waste of money. Dears please don't buy this product. 🤮🤮🤬\",\n",
    "    \"Very bad product... Voice quality is chief... Don't take every body.\",\n",
    "    \"Ear feting not properly\"\n",
    "]\n",
    "\n",
    "for review in review_list2:\n",
    "    prediction = check_model(review)\n",
    "    print(prediction)"
   ]
  },
  {
   "cell_type": "markdown",
   "metadata": {},
   "source": [
    "### Download Pickle File"
   ]
  },
  {
   "cell_type": "code",
   "execution_count": null,
   "metadata": {},
   "outputs": [],
   "source": [
    "pickle.dump(clf_model, open('clf_model.pkl', 'wb'))\n",
    "pickle.dump(tfidf, open('tfidf.pkl', 'wb'))"
   ]
  }
 ],
 "metadata": {
  "kernelspec": {
   "display_name": "sentimentenv",
   "language": "python",
   "name": "python3"
  },
  "language_info": {
   "codemirror_mode": {
    "name": "ipython",
    "version": 3
   },
   "file_extension": ".py",
   "mimetype": "text/x-python",
   "name": "python",
   "nbconvert_exporter": "python",
   "pygments_lexer": "ipython3",
   "version": "3.13.1"
  }
 },
 "nbformat": 4,
 "nbformat_minor": 2
}
